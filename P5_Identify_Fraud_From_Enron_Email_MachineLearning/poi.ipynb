{
 "cells": [
  {
   "cell_type": "code",
   "execution_count": 17,
   "metadata": {
    "collapsed": false,
    "deletable": true,
    "editable": true
   },
   "outputs": [
    {
     "name": "stdout",
     "output_type": "stream",
     "text": [
      "3.5.3 |Intel Corporation| (default, Apr 27 2017, 18:08:47) \n",
      "[GCC 4.8.2 20140120 (Red Hat 4.8.2-15)]\n"
     ]
    }
   ],
   "source": [
    "import sys\n",
    "print(sys.version)\n",
    "sys.path.append(\"../tools\")"
   ]
  },
  {
   "cell_type": "code",
   "execution_count": 3,
   "metadata": {
    "collapsed": true,
    "deletable": true,
    "editable": true
   },
   "outputs": [],
   "source": [
    "from __future__ import print_function"
   ]
  },
  {
   "cell_type": "code",
   "execution_count": 4,
   "metadata": {
    "collapsed": true,
    "deletable": true,
    "editable": true
   },
   "outputs": [],
   "source": [
    "import random"
   ]
  },
  {
   "cell_type": "code",
   "execution_count": 5,
   "metadata": {
    "collapsed": true,
    "deletable": true,
    "editable": true
   },
   "outputs": [],
   "source": [
    "from sklearn.feature_selection import SelectKBest\n",
    "from sklearn import preprocessing\n",
    "from sklearn.model_selection import train_test_split\n",
    "from sklearn.metrics import accuracy_score, precision_score, recall_score, classification_report\n",
    "from sklearn.model_selection import GridSearchCV\n",
    "\n",
    "from sklearn.linear_model import LogisticRegression\n",
    "from sklearn.naive_bayes import GaussianNB\n",
    "from sklearn.ensemble import RandomForestClassifier, GradientBoostingClassifier, AdaBoostClassifier\n",
    "from sklearn.neural_network import MLPClassifier\n",
    "from sklearn.neighbors import KNeighborsClassifier"
   ]
  },
  {
   "cell_type": "code",
   "execution_count": 6,
   "metadata": {
    "collapsed": false,
    "deletable": true,
    "editable": true
   },
   "outputs": [
    {
     "name": "stderr",
     "output_type": "stream",
     "text": [
      "/opt/intel/intelpython3/lib/python3.5/site-packages/sklearn/cross_validation.py:44: DeprecationWarning: This module was deprecated in version 0.18 in favor of the model_selection module into which all the refactored classes and functions are moved. Also note that the interface of the new CV iterators are different from that of this module. This module will be removed in 0.20.\n",
      "  \"This module will be removed in 0.20.\", DeprecationWarning)\n"
     ]
    }
   ],
   "source": [
    "from feature_format import featureFormat, targetFeatureSplit\n",
    "from tester import dump_classifier_and_data, test_classifier"
   ]
  },
  {
   "cell_type": "code",
   "execution_count": 7,
   "metadata": {
    "collapsed": true,
    "deletable": true,
    "editable": true
   },
   "outputs": [],
   "source": [
    "import pickle"
   ]
  },
  {
   "cell_type": "code",
   "execution_count": 8,
   "metadata": {
    "collapsed": true,
    "deletable": true,
    "editable": true
   },
   "outputs": [],
   "source": [
    "import numpy as np"
   ]
  },
  {
   "cell_type": "code",
   "execution_count": 9,
   "metadata": {
    "collapsed": true,
    "deletable": true,
    "editable": true
   },
   "outputs": [],
   "source": [
    "import matplotlib.pyplot as plt"
   ]
  },
  {
   "cell_type": "code",
   "execution_count": 10,
   "metadata": {
    "collapsed": true,
    "deletable": true,
    "editable": true
   },
   "outputs": [],
   "source": [
    "with open(\"final_project_dataset.pkl\", \"rb\") as data_file:\n",
    "    dataset = pickle.load(data_file)"
   ]
  },
  {
   "cell_type": "code",
   "execution_count": 26,
   "metadata": {
    "collapsed": true,
    "deletable": true,
    "editable": true
   },
   "outputs": [],
   "source": [
    "import pandas as pd"
   ]
  },
  {
   "cell_type": "code",
   "execution_count": 29,
   "metadata": {
    "collapsed": true,
    "deletable": true,
    "editable": true
   },
   "outputs": [],
   "source": [
    "df = pd.DataFrame(dataset).transpose()"
   ]
  },
  {
   "cell_type": "code",
   "execution_count": 57,
   "metadata": {
    "collapsed": false,
    "deletable": true,
    "editable": true
   },
   "outputs": [
    {
     "data": {
      "text/plain": [
       "128"
      ]
     },
     "execution_count": 57,
     "metadata": {},
     "output_type": "execute_result"
    }
   ],
   "source": [
    "len(df[df['poi']==0])"
   ]
  },
  {
   "cell_type": "code",
   "execution_count": 47,
   "metadata": {
    "collapsed": false,
    "deletable": true,
    "editable": true
   },
   "outputs": [
    {
     "name": "stdout",
     "output_type": "stream",
     "text": [
      "bonus , 64\n",
      "deferral_payments , 107\n",
      "deferred_income , 97\n",
      "director_fees , 129\n",
      "email_address , 35\n",
      "exercised_stock_options , 44\n",
      "expenses , 51\n",
      "from_messages , 60\n",
      "from_poi_to_this_person , 60\n",
      "from_this_person_to_poi , 60\n",
      "loan_advances , 142\n",
      "long_term_incentive , 80\n",
      "other , 53\n",
      "poi , 0\n",
      "restricted_stock , 36\n",
      "restricted_stock_deferred , 128\n",
      "salary , 51\n",
      "shared_receipt_with_poi , 60\n",
      "to_messages , 60\n",
      "total_payments , 21\n",
      "total_stock_value , 20\n"
     ]
    }
   ],
   "source": [
    "for col in df:\n",
    "    print(col, ',', sum(df[col]=='NaN'))"
   ]
  },
  {
   "cell_type": "markdown",
   "metadata": {
    "deletable": true,
    "editable": true
   },
   "source": [
    "### Task 1: Select what features you'll use."
   ]
  },
  {
   "cell_type": "code",
   "execution_count": 58,
   "metadata": {
    "collapsed": true,
    "deletable": true,
    "editable": true
   },
   "outputs": [],
   "source": [
    "### features_list is a list of strings, each of which is a feature name.\n",
    "### The first feature must be \"poi\".\n",
    "features_list = ['poi','salary'] # You will need to use more features"
   ]
  },
  {
   "cell_type": "code",
   "execution_count": 59,
   "metadata": {
    "collapsed": true,
    "deletable": true,
    "editable": true
   },
   "outputs": [
    {
     "data": {
      "image/png": "[encoded data removed]",
      "text/plain": [
       "<matplotlib.figure.Figure at 0x7efbec7d3da0>"
      ]
     },
     "metadata": {},
     "output_type": "display_data"
    }
   ],
   "source": [
    "# brief check for outliers\n",
    "salaries, pois = [], []\n",
    "for k, v in dataset.items():\n",
    "    salaries.append(v['salary'])\n",
    "    pois.append(v['poi'] * 10000000)  # multiply for visual scale\n",
    "plt.figure(figsize=(30,5))\n",
    "plt.plot(salaries)\n",
    "plt.plot(pois)\n",
    "plt.show()"
   ]
  },
  {
   "cell_type": "markdown",
   "metadata": {
    "deletable": true,
    "editable": true
   },
   "source": [
    "### Task 2: Remove outliers"
   ]
  },
  {
   "cell_type": "code",
   "execution_count": 60,
   "metadata": {
    "collapsed": false,
    "deletable": true,
    "editable": true
   },
   "outputs": [
    {
     "name": "stdout",
     "output_type": "stream",
     "text": [
      "TOTAL\n"
     ]
    }
   ],
   "source": [
    "# extreme outlier with salary 25M +\n",
    "# check it's key name\n",
    "for k, v in dataset.items():\n",
    "    if v['salary'] != 'NaN' and v['salary'] > 10000000: \n",
    "        print(k)"
   ]
  },
  {
   "cell_type": "code",
   "execution_count": 61,
   "metadata": {
    "collapsed": true,
    "deletable": true,
    "editable": true
   },
   "outputs": [],
   "source": [
    "# remove \"TOTAL\" row from the dataset\n",
    "del dataset['TOTAL']"
   ]
  },
  {
   "cell_type": "code",
   "execution_count": 62,
   "metadata": {
    "collapsed": true,
    "deletable": true,
    "editable": true
   },
   "outputs": [],
   "source": [
    "# get all dict keys\n",
    "all_features = list(list(dataset.items())[0][1].keys())"
   ]
  },
  {
   "cell_type": "code",
   "execution_count": 63,
   "metadata": {
    "collapsed": false,
    "deletable": true,
    "editable": true
   },
   "outputs": [
    {
     "name": "stdout",
     "output_type": "stream",
     "text": [
      "['restricted_stock', 'total_payments', 'exercised_stock_options', 'salary', 'deferred_income', 'long_term_incentive', 'other', 'email_address', 'total_stock_value', 'from_messages', 'to_messages', 'from_poi_to_this_person', 'from_this_person_to_poi', 'expenses', 'shared_receipt_with_poi', 'restricted_stock_deferred', 'bonus', 'loan_advances', 'poi', 'deferral_payments', 'director_fees']\n"
     ]
    }
   ],
   "source": [
    "print(all_features)"
   ]
  },
  {
   "cell_type": "code",
   "execution_count": 64,
   "metadata": {
    "collapsed": true,
    "deletable": true,
    "editable": true
   },
   "outputs": [],
   "source": [
    "# email address is pretty much useless\n",
    "del all_features[all_features.index('email_address')]"
   ]
  },
  {
   "cell_type": "markdown",
   "metadata": {
    "deletable": true,
    "editable": true
   },
   "source": [
    "### Task 3: Create new feature(s)"
   ]
  },
  {
   "cell_type": "code",
   "execution_count": 65,
   "metadata": {
    "collapsed": true,
    "deletable": true,
    "editable": true
   },
   "outputs": [],
   "source": [
    "# a feature to represent ratio of person's correspondence with poi to their total correspondence\n",
    "for k, v in dataset.items():\n",
    "    if any([v['from_poi_to_this_person']=='NaN', v['from_this_person_to_poi']=='NaN', v['to_messages']=='NaN', v['from_messages']=='NaN']):\n",
    "        v['interaction_with_poi'] = 'NaN'\n",
    "    else:\n",
    "        v['interaction_with_poi'] = (v['from_poi_to_this_person'] + v['from_this_person_to_poi']) / (v['to_messages'] + v['from_messages'])"
   ]
  },
  {
   "cell_type": "code",
   "execution_count": 66,
   "metadata": {
    "collapsed": true,
    "deletable": true,
    "editable": true,
    "scrolled": false
   },
   "outputs": [],
   "source": [
    "# ratio of deferral payments to total payments\n",
    "for k, v in dataset.items():\n",
    "    if any([v['deferral_payments']=='NaN', v['total_payments']=='NaN']):\n",
    "        v['payments_ratio'] = 'NaN'\n",
    "    else:\n",
    "        v['payments_ratio'] = v['deferral_payments'] / v['total_payments']"
   ]
  },
  {
   "cell_type": "code",
   "execution_count": 67,
   "metadata": {
    "collapsed": true,
    "deletable": true,
    "editable": true
   },
   "outputs": [],
   "source": [
    "# ratio of income to total payments\n",
    "for k, v in dataset.items():\n",
    "    if any([v['salary']=='NaN', v['total_payments']=='NaN', v['bonus']=='NaN']):\n",
    "        v['salary_payments_ratio'] = 'NaN'\n",
    "    else:\n",
    "        v['salary_payments_ratio'] = v['total_payments'] / v['salary'] + v['bonus']"
   ]
  },
  {
   "cell_type": "code",
   "execution_count": 68,
   "metadata": {
    "collapsed": true,
    "deletable": true,
    "editable": true
   },
   "outputs": [],
   "source": [
    "# once again pick all features\n",
    "all_features = list(list(dataset.items())[0][1].keys())\n",
    "del all_features[all_features.index('email_address')]"
   ]
  },
  {
   "cell_type": "code",
   "execution_count": 69,
   "metadata": {
    "collapsed": true,
    "deletable": true,
    "editable": true
   },
   "outputs": [],
   "source": [
    "# a line to ensure poi will be in first place so lables and features could be succesfully formed with featureFormat\n",
    "my_features = ['poi'] + [f for f in all_features if f != 'poi']"
   ]
  },
  {
   "cell_type": "code",
   "execution_count": 70,
   "metadata": {
    "collapsed": false,
    "deletable": true,
    "editable": true
   },
   "outputs": [
    {
     "name": "stdout",
     "output_type": "stream",
     "text": [
      "['poi', 'restricted_stock', 'total_payments', 'salary', 'deferred_income', 'other', 'total_stock_value', 'shared_receipt_with_poi', 'from_poi_to_this_person', 'restricted_stock_deferred', 'bonus', 'long_term_incentive', 'to_messages', 'director_fees', 'from_messages', 'loan_advances', 'salary_payments_ratio', 'payments_ratio', 'interaction_with_poi', 'from_this_person_to_poi', 'deferral_payments', 'expenses', 'exercised_stock_options']\n"
     ]
    }
   ],
   "source": [
    "print(my_features)"
   ]
  },
  {
   "cell_type": "code",
   "execution_count": 133,
   "metadata": {
    "collapsed": true,
    "deletable": true,
    "editable": true
   },
   "outputs": [],
   "source": [
    "data = featureFormat(dataset, my_features, sort_keys = True)\n",
    "labels, features = targetFeatureSplit(data)"
   ]
  },
  {
   "cell_type": "code",
   "execution_count": 134,
   "metadata": {
    "collapsed": true,
    "deletable": true,
    "editable": true
   },
   "outputs": [],
   "source": [
    "# normalize\n",
    "features = preprocessing.scale(features)"
   ]
  },
  {
   "cell_type": "code",
   "execution_count": 135,
   "metadata": {
    "collapsed": false,
    "deletable": true,
    "editable": true,
    "scrolled": true
   },
   "outputs": [
    {
     "data": {
      "text/plain": [
       "SelectKBest(k=4, score_func=<function f_classif at 0x7efc1535b268>)"
      ]
     },
     "execution_count": 135,
     "metadata": {},
     "output_type": "execute_result"
    }
   ],
   "source": [
    "# check for best features using sklearn's SelectKBest\n",
    "# pick 5 features\n",
    "k_best = SelectKBest(k=4)\n",
    "k_best.fit(features, labels)"
   ]
  },
  {
   "cell_type": "code",
   "execution_count": 136,
   "metadata": {
    "collapsed": false,
    "deletable": true,
    "editable": true,
    "scrolled": false
   },
   "outputs": [
    {
     "name": "stdout",
     "output_type": "stream",
     "text": [
      "True 25.0975415287 exercised_stock_options\n",
      "True 24.4676540475 total_stock_value\n",
      "True 21.0600138991 salary_payments_ratio\n",
      "True 21.0600017075 bonus\n",
      "False 18.575703268 salary\n",
      "False 11.5955476597 deferred_income\n",
      "False 10.0724545294 long_term_incentive\n",
      "False 9.34670079105 restricted_stock\n",
      "False 8.86672153711 total_payments\n",
      "False 8.74648553213 shared_receipt_with_poi\n",
      "False 7.24273039654 loan_advances\n",
      "False 6.23420114051 expenses\n",
      "False 5.51850554381 interaction_with_poi\n",
      "False 5.34494152315 from_poi_to_this_person\n",
      "False 4.2049708583 other\n",
      "False 2.42650812724 from_this_person_to_poi\n",
      "False 2.10765594328 director_fees\n",
      "False 1.69882434858 to_messages\n",
      "False 1.33811668902 payments_ratio\n",
      "False 0.21705893034 deferral_payments\n",
      "False 0.164164498234 from_messages\n",
      "False 0.0649843117237 restricted_stock_deferred\n"
     ]
    }
   ],
   "source": [
    "# create a new feature list\n",
    "feature_list = ['poi']\n",
    "for f in sorted(zip(k_best.scores_, k_best.get_support(), my_features[1:]), reverse=True):\n",
    "    print(f[1], f[0], f[2])\n",
    "    if f[1]:\n",
    "        feature_list.append(f[2])"
   ]
  },
  {
   "cell_type": "markdown",
   "metadata": {
    "deletable": true,
    "editable": true
   },
   "source": [
    "### Task 4: Try a varity of classifiers"
   ]
  },
  {
   "cell_type": "code",
   "execution_count": 137,
   "metadata": {
    "collapsed": false,
    "deletable": true,
    "editable": true
   },
   "outputs": [
    {
     "name": "stdout",
     "output_type": "stream",
     "text": [
      "GaussianNB(priors=None)\n",
      "\tAccuracy: 0.84208\tPrecision: 0.48191\tRecall: 0.35300\tF1: 0.40750\tF2: 0.37295\n",
      "\tTotal predictions: 13000\tTrue positives:  706\tFalse positives:  759\tFalse negatives: 1294\tTrue negatives: 10241\n",
      "\n"
     ]
    }
   ],
   "source": [
    "clf = GaussianNB()\n",
    "test_classifier(clf, dataset, feature_list)"
   ]
  },
  {
   "cell_type": "code",
   "execution_count": 138,
   "metadata": {
    "collapsed": false,
    "deletable": true,
    "editable": true,
    "scrolled": true
   },
   "outputs": [
    {
     "name": "stdout",
     "output_type": "stream",
     "text": [
      "LogisticRegression(C=1.0, class_weight=None, dual=False, fit_intercept=True,\n",
      "          intercept_scaling=1, max_iter=100, multi_class='ovr', n_jobs=1,\n",
      "          penalty='l2', random_state=None, solver='liblinear', tol=0.0001,\n",
      "          verbose=0, warm_start=False)\n",
      "\tAccuracy: 0.63215\tPrecision: 0.02265\tRecall: 0.03300\tF1: 0.02686\tF2: 0.03024\n",
      "\tTotal predictions: 13000\tTrue positives:   66\tFalse positives: 2848\tFalse negatives: 1934\tTrue negatives: 8152\n",
      "\n"
     ]
    }
   ],
   "source": [
    "clf = LogisticRegression()\n",
    "test_classifier(clf, dataset, feature_list)"
   ]
  },
  {
   "cell_type": "code",
   "execution_count": 139,
   "metadata": {
    "collapsed": false,
    "deletable": true,
    "editable": true,
    "scrolled": true
   },
   "outputs": [
    {
     "name": "stdout",
     "output_type": "stream",
     "text": [
      "RandomForestClassifier(bootstrap=True, class_weight=None, criterion='gini',\n",
      "            max_depth=None, max_features='auto', max_leaf_nodes=None,\n",
      "            min_impurity_split=1e-07, min_samples_leaf=1,\n",
      "            min_samples_split=2, min_weight_fraction_leaf=0.0,\n",
      "            n_estimators=10, n_jobs=1, oob_score=False, random_state=None,\n",
      "            verbose=0, warm_start=False)\n",
      "\tAccuracy: 0.84823\tPrecision: 0.51077\tRecall: 0.32000\tF1: 0.39348\tF2: 0.34583\n",
      "\tTotal predictions: 13000\tTrue positives:  640\tFalse positives:  613\tFalse negatives: 1360\tTrue negatives: 10387\n",
      "\n"
     ]
    }
   ],
   "source": [
    "clf = RandomForestClassifier()\n",
    "test_classifier(clf, dataset, feature_list)"
   ]
  },
  {
   "cell_type": "code",
   "execution_count": 140,
   "metadata": {
    "collapsed": false,
    "deletable": true,
    "editable": true
   },
   "outputs": [
    {
     "name": "stdout",
     "output_type": "stream",
     "text": [
      "MLPClassifier(activation='relu', alpha=0.0001, batch_size='auto', beta_1=0.9,\n",
      "       beta_2=0.999, early_stopping=False, epsilon=1e-08,\n",
      "       hidden_layer_sizes=(100,), learning_rate='constant',\n",
      "       learning_rate_init=0.001, max_iter=200, momentum=0.9,\n",
      "       nesterovs_momentum=True, power_t=0.5, random_state=None,\n",
      "       shuffle=True, solver='adam', tol=0.0001, validation_fraction=0.1,\n",
      "       verbose=False, warm_start=False)\n",
      "\tAccuracy: 0.58554\tPrecision: 0.14664\tRecall: 0.35150\tF1: 0.20695\tF2: 0.27474\n",
      "\tTotal predictions: 13000\tTrue positives:  703\tFalse positives: 4091\tFalse negatives: 1297\tTrue negatives: 6909\n",
      "\n"
     ]
    }
   ],
   "source": [
    "clf = MLPClassifier()\n",
    "test_classifier(clf, dataset, feature_list)"
   ]
  },
  {
   "cell_type": "code",
   "execution_count": 141,
   "metadata": {
    "collapsed": false,
    "deletable": true,
    "editable": true
   },
   "outputs": [
    {
     "name": "stdout",
     "output_type": "stream",
     "text": [
      "KNeighborsClassifier(algorithm='auto', leaf_size=30, metric='minkowski',\n",
      "           metric_params=None, n_jobs=1, n_neighbors=5, p=2,\n",
      "           weights='uniform')\n",
      "\tAccuracy: 0.87846\tPrecision: 0.80172\tRecall: 0.27900\tF1: 0.41395\tF2: 0.32084\n",
      "\tTotal predictions: 13000\tTrue positives:  558\tFalse positives:  138\tFalse negatives: 1442\tTrue negatives: 10862\n",
      "\n"
     ]
    }
   ],
   "source": [
    "clf = KNeighborsClassifier()\n",
    "test_classifier(clf, dataset, feature_list)"
   ]
  },
  {
   "cell_type": "code",
   "execution_count": 142,
   "metadata": {
    "collapsed": false,
    "deletable": true,
    "editable": true
   },
   "outputs": [
    {
     "name": "stdout",
     "output_type": "stream",
     "text": [
      "GradientBoostingClassifier(criterion='friedman_mse', init=None,\n",
      "              learning_rate=0.1, loss='deviance', max_depth=3,\n",
      "              max_features=None, max_leaf_nodes=None,\n",
      "              min_impurity_split=1e-07, min_samples_leaf=1,\n",
      "              min_samples_split=2, min_weight_fraction_leaf=0.0,\n",
      "              n_estimators=100, presort='auto', random_state=None,\n",
      "              subsample=1.0, verbose=0, warm_start=False)\n",
      "\tAccuracy: 0.81585\tPrecision: 0.38493\tRecall: 0.32950\tF1: 0.35506\tF2: 0.33927\n",
      "\tTotal predictions: 13000\tTrue positives:  659\tFalse positives: 1053\tFalse negatives: 1341\tTrue negatives: 9947\n",
      "\n"
     ]
    }
   ],
   "source": [
    "clf = GradientBoostingClassifier()\n",
    "test_classifier(clf, dataset, feature_list)"
   ]
  },
  {
   "cell_type": "code",
   "execution_count": 143,
   "metadata": {
    "collapsed": false,
    "deletable": true,
    "editable": true
   },
   "outputs": [
    {
     "name": "stdout",
     "output_type": "stream",
     "text": [
      "AdaBoostClassifier(algorithm='SAMME.R', base_estimator=None,\n",
      "          learning_rate=1.0, n_estimators=50, random_state=None)\n",
      "\tAccuracy: 0.81308\tPrecision: 0.37784\tRecall: 0.33250\tF1: 0.35372\tF2: 0.34068\n",
      "\tTotal predictions: 13000\tTrue positives:  665\tFalse positives: 1095\tFalse negatives: 1335\tTrue negatives: 9905\n",
      "\n"
     ]
    }
   ],
   "source": [
    "clf = AdaBoostClassifier()\n",
    "test_classifier(clf, dataset, feature_list)"
   ]
  },
  {
   "cell_type": "markdown",
   "metadata": {
    "deletable": true,
    "editable": true
   },
   "source": [
    "### Task 5: Tune your classifier to achieve better than .3 precision and recall "
   ]
  },
  {
   "cell_type": "code",
   "execution_count": 36,
   "metadata": {
    "collapsed": true,
    "deletable": true,
    "editable": true
   },
   "outputs": [],
   "source": [
    "# prepare the data for manual testing\n",
    "data = featureFormat(dataset, feature_list, sort_keys = True)\n",
    "y, X = targetFeatureSplit(data)"
   ]
  },
  {
   "cell_type": "code",
   "execution_count": 37,
   "metadata": {
    "collapsed": true,
    "deletable": true,
    "editable": true
   },
   "outputs": [],
   "source": [
    "# create parameter array - list of tuples with two numbers, representing probabilites, which sum up to 1\n",
    "priors = [(round(i / 20., 2), round(1 - (i / 20.), 2),) for i in range(1, 20)]"
   ]
  },
  {
   "cell_type": "code",
   "execution_count": 38,
   "metadata": {
    "collapsed": false,
    "deletable": true,
    "editable": true
   },
   "outputs": [
    {
     "name": "stdout",
     "output_type": "stream",
     "text": [
      "[(0.05, 0.95), (0.1, 0.9), (0.15, 0.85), (0.2, 0.8), (0.25, 0.75), (0.3, 0.7), (0.35, 0.65), (0.4, 0.6), (0.45, 0.55), (0.5, 0.5), (0.55, 0.45), (0.6, 0.4), (0.65, 0.35), (0.7, 0.3), (0.75, 0.25), (0.8, 0.2), (0.85, 0.15), (0.9, 0.1), (0.95, 0.05)]\n"
     ]
    }
   ],
   "source": [
    "print(priors)"
   ]
  },
  {
   "cell_type": "code",
   "execution_count": 39,
   "metadata": {
    "collapsed": true,
    "deletable": true,
    "editable": true
   },
   "outputs": [],
   "source": [
    "# split the data into training and testing sets\n",
    "X_train, X_test, y_train, y_test = train_test_split(X, y, test_size=0.33)"
   ]
  },
  {
   "cell_type": "code",
   "execution_count": 40,
   "metadata": {
    "collapsed": true,
    "deletable": true,
    "editable": true
   },
   "outputs": [],
   "source": [
    "parameters = {'priors': priors}"
   ]
  },
  {
   "cell_type": "code",
   "execution_count": 41,
   "metadata": {
    "collapsed": true,
    "deletable": true,
    "editable": true
   },
   "outputs": [],
   "source": [
    "scores = ['precision', 'recall']"
   ]
  },
  {
   "cell_type": "code",
   "execution_count": 42,
   "metadata": {
    "collapsed": false,
    "deletable": true,
    "editable": true
   },
   "outputs": [
    {
     "name": "stdout",
     "output_type": "stream",
     "text": [
      "# Tuning hyper-parameters for precision\n"
     ]
    },
    {
     "name": "stderr",
     "output_type": "stream",
     "text": [
      "/home/me/.local/lib/python2.7/site-packages/sklearn/metrics/classification.py:1113: UndefinedMetricWarning: Precision is ill-defined and being set to 0.0 in labels with no predicted samples.\n",
      "  'precision', 'predicted', average, warn_for)\n"
     ]
    },
    {
     "name": "stdout",
     "output_type": "stream",
     "text": [
      "Best parameters set found on development set:\n",
      "{'priors': (0.9, 0.1)}\n",
      "Grid scores on development set:\n",
      "0.610 (+/-0.349) for {'priors': (0.05, 0.95)}\n",
      "0.576 (+/-0.370) for {'priors': (0.1, 0.9)}\n",
      "0.576 (+/-0.370) for {'priors': (0.15, 0.85)}\n",
      "0.586 (+/-0.376) for {'priors': (0.2, 0.8)}\n",
      "0.595 (+/-0.384) for {'priors': (0.25, 0.75)}\n",
      "0.626 (+/-0.441) for {'priors': (0.3, 0.7)}\n",
      "0.626 (+/-0.440) for {'priors': (0.35, 0.65)}\n",
      "0.627 (+/-0.438) for {'priors': (0.4, 0.6)}\n",
      "0.627 (+/-0.438) for {'priors': (0.45, 0.55)}\n",
      "0.627 (+/-0.438) for {'priors': (0.5, 0.5)}\n",
      "0.627 (+/-0.438) for {'priors': (0.55, 0.45)}\n",
      "0.627 (+/-0.438) for {'priors': (0.6, 0.4)}\n",
      "0.627 (+/-0.438) for {'priors': (0.65, 0.35)}\n",
      "0.627 (+/-0.438) for {'priors': (0.7, 0.3)}\n",
      "0.627 (+/-0.438) for {'priors': (0.75, 0.25)}\n",
      "0.650 (+/-0.485) for {'priors': (0.8, 0.2)}\n",
      "0.650 (+/-0.485) for {'priors': (0.85, 0.15)}\n",
      "0.680 (+/-0.521) for {'priors': (0.9, 0.1)}\n",
      "0.680 (+/-0.521) for {'priors': (0.95, 0.05)}\n",
      "\n",
      "\n",
      "Detailed classification report:\n",
      "\n",
      "The model is trained on the full development set.\n",
      "The scores are computed on the full evaluation set.\n",
      "\n",
      "             precision    recall  f1-score   support\n",
      "\n",
      "        0.0       0.88      0.97      0.93        38\n",
      "        1.0       0.00      0.00      0.00         5\n",
      "\n",
      "avg / total       0.78      0.86      0.82        43\n",
      "\n",
      "# Tuning hyper-parameters for recall\n",
      "Best parameters set found on development set:\n",
      "{'priors': (0.9, 0.1)}\n",
      "Grid scores on development set:\n",
      "0.636 (+/-0.435) for {'priors': (0.05, 0.95)}\n",
      "0.608 (+/-0.450) for {'priors': (0.1, 0.9)}\n",
      "0.608 (+/-0.450) for {'priors': (0.15, 0.85)}\n",
      "0.615 (+/-0.453) for {'priors': (0.2, 0.8)}\n",
      "0.628 (+/-0.457) for {'priors': (0.25, 0.75)}\n",
      "0.642 (+/-0.448) for {'priors': (0.3, 0.7)}\n",
      "0.648 (+/-0.437) for {'priors': (0.35, 0.65)}\n",
      "0.655 (+/-0.426) for {'priors': (0.4, 0.6)}\n",
      "0.655 (+/-0.426) for {'priors': (0.45, 0.55)}\n",
      "0.655 (+/-0.426) for {'priors': (0.5, 0.5)}\n",
      "0.655 (+/-0.426) for {'priors': (0.55, 0.45)}\n",
      "0.655 (+/-0.426) for {'priors': (0.6, 0.4)}\n",
      "0.655 (+/-0.426) for {'priors': (0.65, 0.35)}\n",
      "0.655 (+/-0.426) for {'priors': (0.7, 0.3)}\n",
      "0.655 (+/-0.426) for {'priors': (0.75, 0.25)}\n",
      "0.661 (+/-0.444) for {'priors': (0.8, 0.2)}\n",
      "0.661 (+/-0.444) for {'priors': (0.85, 0.15)}\n",
      "0.669 (+/-0.448) for {'priors': (0.9, 0.1)}\n",
      "0.669 (+/-0.448) for {'priors': (0.95, 0.05)}\n",
      "\n",
      "\n",
      "Detailed classification report:\n",
      "\n",
      "The model is trained on the full development set.\n",
      "The scores are computed on the full evaluation set.\n",
      "\n",
      "             precision    recall  f1-score   support\n",
      "\n",
      "        0.0       0.88      0.97      0.93        38\n",
      "        1.0       0.00      0.00      0.00         5\n",
      "\n",
      "avg / total       0.78      0.86      0.82        43\n",
      "\n"
     ]
    }
   ],
   "source": [
    "# perform GridSearchCV - results may vary due to random nature\n",
    "for score in scores:\n",
    "    print(\"# Tuning hyper-parameters for %s\" % score)\n",
    "    clf = GridSearchCV(GaussianNB(), parameters, cv=10, scoring='%s_macro' % score)\n",
    "    clf.fit(X_train, y_train)\n",
    "    print(\"Best parameters set found on development set:\")\n",
    "    print(clf.best_params_)\n",
    "    print(\"Grid scores on development set:\")\n",
    "    means = clf.cv_results_['mean_test_score']\n",
    "    stds = clf.cv_results_['std_test_score']\n",
    "    for mean, std, params in zip(means, stds, clf.cv_results_['params']):\n",
    "        print(\"%0.3f (+/-%0.03f) for %r\" % (mean, std * 2, params))\n",
    "    print(\"\\n\\nDetailed classification report:\\n\")\n",
    "    print(\"The model is trained on the full development set.\")\n",
    "    print(\"The scores are computed on the full evaluation set.\\n\")\n",
    "    y_pred = clf.predict(X_test)\n",
    "    print(classification_report(y_test, y_pred))"
   ]
  },
  {
   "cell_type": "markdown",
   "metadata": {
    "deletable": true,
    "editable": true
   },
   "source": [
    "#### However In the real world scenario predict_proba sould be used for classifying classes with different error significance"
   ]
  },
  {
   "cell_type": "code",
   "execution_count": 129,
   "metadata": {
    "collapsed": false,
    "deletable": true,
    "editable": true
   },
   "outputs": [
    {
     "name": "stdout",
     "output_type": "stream",
     "text": [
      "GaussianNB(priors=(0.25, 0.75))\n",
      "\tAccuracy: 0.80869\tPrecision: 0.38487\tRecall: 0.40700\tF1: 0.39563\tF2: 0.40237\n",
      "\tTotal predictions: 13000\tTrue positives:  814\tFalse positives: 1301\tFalse negatives: 1186\tTrue negatives: 9699\n",
      "\n"
     ]
    }
   ],
   "source": [
    "clf = GaussianNB(priors=(0.25, 0.75))\n",
    "test_classifier(clf, dataset, feature_list)"
   ]
  },
  {
   "cell_type": "code",
   "execution_count": 44,
   "metadata": {
    "collapsed": false,
    "deletable": true,
    "editable": true
   },
   "outputs": [
    {
     "name": "stdout",
     "output_type": "stream",
     "text": [
      "/home/me/uw/ud120-projects/final_project\n"
     ]
    }
   ],
   "source": [
    "dump_classifier_and_data(clf, dataset, feature_list)"
   ]
  },
  {
   "cell_type": "markdown",
   "metadata": {
    "deletable": true,
    "editable": true
   },
   "source": [
    "#### A pipeline would look like this"
   ]
  },
  {
   "cell_type": "code",
   "execution_count": 45,
   "metadata": {
    "collapsed": true,
    "deletable": true,
    "editable": true
   },
   "outputs": [],
   "source": [
    "from sklearn.feature_selection import SelectKBest\n",
    "from sklearn.feature_selection import f_regression\n",
    "from sklearn.pipeline import Pipeline"
   ]
  },
  {
   "cell_type": "code",
   "execution_count": 46,
   "metadata": {
    "collapsed": true,
    "deletable": true,
    "editable": true
   },
   "outputs": [],
   "source": [
    "from sklearn.metrics import precision_score, recall_score"
   ]
  },
  {
   "cell_type": "code",
   "execution_count": 47,
   "metadata": {
    "collapsed": false,
    "deletable": true,
    "editable": true
   },
   "outputs": [
    {
     "data": {
      "text/plain": [
       "Pipeline(steps=[('anova', SelectKBest(k=5, score_func=<function f_regression at 0x7fc3879aa668>)), ('gnb', GaussianNB(priors=(0.25, 0.75)))])"
      ]
     },
     "execution_count": 47,
     "metadata": {},
     "output_type": "execute_result"
    }
   ],
   "source": [
    "anova_filter = SelectKBest(f_regression, k=5)\n",
    "clf = GaussianNB()\n",
    "anova_gnb = Pipeline([('anova', anova_filter), ('gnb', clf)])\n",
    "anova_gnb.set_params(gnb__priors=(0.25, 0.75))"
   ]
  },
  {
   "cell_type": "code",
   "execution_count": 48,
   "metadata": {
    "collapsed": false,
    "deletable": true,
    "editable": true
   },
   "outputs": [
    {
     "name": "stdout",
     "output_type": "stream",
     "text": [
      "Pipeline(steps=[('anova', SelectKBest(k=5, score_func=<function f_regression at 0x7fc3879aa668>)), ('gnb', GaussianNB(priors=(0.25, 0.75)))])\n",
      "\tAccuracy: 0.81246\tPrecision: 0.38906\tRecall: 0.38400\tF1: 0.38651\tF2: 0.38500\n",
      "\tTotal predictions: 13000\tTrue positives:  768\tFalse positives: 1206\tFalse negatives: 1232\tTrue negatives: 9794\n",
      "\n"
     ]
    }
   ],
   "source": [
    "test_classifier(anova_gnb, dataset, feature_list)"
   ]
  }
 ],
 "metadata": {
  "kernelspec": {
   "display_name": "Python 3",
   "language": "python",
   "name": "python3"
  },
  "language_info": {
   "codemirror_mode": {
    "name": "ipython",
    "version": 3
   },
   "file_extension": ".py",
   "mimetype": "text/x-python",
   "name": "python",
   "nbconvert_exporter": "python",
   "pygments_lexer": "ipython3",
   "version": "3.6.0"
  }
 },
 "nbformat": 4,
 "nbformat_minor": 2
}
